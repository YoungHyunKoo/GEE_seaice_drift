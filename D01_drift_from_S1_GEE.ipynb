{
 "cells": [
  {
   "cell_type": "code",
   "execution_count": 1,
   "metadata": {},
   "outputs": [],
   "source": [
    "import numpy as np\n",
    "import matplotlib.pyplot as plt\n",
    "from matplotlib.colors import Normalize\n",
    "import cartopy\n",
    "import cartopy.crs as ccrs\n",
    "import cartopy.feature as cfeature\n",
    "import glob, os\n",
    "import rasterio\n",
    "from datetime import datetime\n",
    "import pickle\n",
    "from nansat import Nansat, Domain, NSR\n",
    "from tqdm import tqdm\n",
    "\n",
    "import requests\n",
    "import zipfile\n",
    "\n",
    "%load_ext autoreload\n",
    "%autoreload 2\n",
    "\n",
    "from sea_ice_drift.lib import get_spatial_mean, get_uint8_image\n",
    "from sea_ice_drift.ftlib import feature_tracking\n",
    "from sea_ice_drift.pmlib import pattern_matching\n",
    "from sea_ice_drift.libdefor import get_deformation_nodes\n",
    "from functions import *\n",
    "\n",
    "%matplotlib inline\n",
    "\n",
    "import warnings\n",
    "warnings.filterwarnings('ignore')"
   ]
  },
  {
   "cell_type": "code",
   "execution_count": 2,
   "metadata": {},
   "outputs": [],
   "source": [
    "import geemap\n",
    "import ee\n",
    "from datetime import datetime, timedelta\n",
    "\n",
    "try:\n",
    "  ee.Initialize(project = \"utsa-spring2024\")\n",
    "except:\n",
    "  ee.Authenticate()\n",
    "  ee.Initialize(project = \"utsa-spring2024\")"
   ]
  },
  {
   "cell_type": "markdown",
   "metadata": {},
   "source": [
    "## **Derive sea ice drift for the Weddell Sea**"
   ]
  },
  {
   "cell_type": "markdown",
   "metadata": {},
   "source": [
    "## Sentinel-1 image from GEE"
   ]
  },
  {
   "cell_type": "code",
   "execution_count": 3,
   "metadata": {},
   "outputs": [
    {
     "data": {
      "text/html": [
       "\n",
       "            <style>\n",
       "                .geemap-dark {\n",
       "                    --jp-widgets-color: white;\n",
       "                    --jp-widgets-label-color: white;\n",
       "                    --jp-ui-font-color1: white;\n",
       "                    --jp-layout-color2: #454545;\n",
       "                    background-color: #383838;\n",
       "                }\n",
       "\n",
       "                .geemap-dark .jupyter-button {\n",
       "                    --jp-layout-color3: #383838;\n",
       "                }\n",
       "\n",
       "                .geemap-colab {\n",
       "                    background-color: var(--colab-primary-surface-color, white);\n",
       "                }\n",
       "\n",
       "                .geemap-colab .jupyter-button {\n",
       "                    --jp-layout-color3: var(--colab-primary-surface-color, white);\n",
       "                }\n",
       "            </style>\n",
       "            "
      ],
      "text/plain": [
       "<IPython.core.display.HTML object>"
      ]
     },
     "metadata": {},
     "output_type": "display_data"
    }
   ],
   "source": [
    "bound = {'north': -67, 'south': -77, 'west': -58, 'east': -43}\n",
    "bound = [-59, -76, -45, -70]"
   ]
  },
  {
   "cell_type": "code",
   "execution_count": 4,
   "metadata": {},
   "outputs": [
    {
     "data": {
      "text/html": [
       "\n",
       "            <style>\n",
       "                .geemap-dark {\n",
       "                    --jp-widgets-color: white;\n",
       "                    --jp-widgets-label-color: white;\n",
       "                    --jp-ui-font-color1: white;\n",
       "                    --jp-layout-color2: #454545;\n",
       "                    background-color: #383838;\n",
       "                }\n",
       "\n",
       "                .geemap-dark .jupyter-button {\n",
       "                    --jp-layout-color3: #383838;\n",
       "                }\n",
       "\n",
       "                .geemap-colab {\n",
       "                    background-color: var(--colab-primary-surface-color, white);\n",
       "                }\n",
       "\n",
       "                .geemap-colab .jupyter-button {\n",
       "                    --jp-layout-color3: var(--colab-primary-surface-color, white);\n",
       "                }\n",
       "            </style>\n",
       "            "
      ],
      "text/plain": [
       "<IPython.core.display.HTML object>"
      ]
     },
     "metadata": {},
     "output_type": "display_data"
    },
    {
     "data": {
      "application/vnd.jupyter.widget-view+json": {
       "model_id": "b177d24c9ad84ec4b2f55875f29bf2cb",
       "version_major": 2,
       "version_minor": 0
      },
      "text/plain": [
       "Map(center=[-72.86886014135895, -51.999999999999844], controls=(WidgetControl(options=['position', 'transparen…"
      ]
     },
     "execution_count": 4,
     "metadata": {},
     "output_type": "execute_result"
    }
   ],
   "source": [
    "Map = geemap.Map()\n",
    "bound_ext = ee.Geometry.BBox(bound[0], bound[1], bound[2], bound[3]) #ee.Geometry.Rectangle(bbox)\n",
    "Map.addLayer(bound_ext)\n",
    "Map.centerObject(bound_ext, 5)\n",
    "Map"
   ]
  },
  {
   "cell_type": "code",
   "execution_count": 3,
   "metadata": {},
   "outputs": [
    {
     "data": {
      "text/html": [
       "\n",
       "            <style>\n",
       "                .geemap-dark {\n",
       "                    --jp-widgets-color: white;\n",
       "                    --jp-widgets-label-color: white;\n",
       "                    --jp-ui-font-color1: white;\n",
       "                    --jp-layout-color2: #454545;\n",
       "                    background-color: #383838;\n",
       "                }\n",
       "\n",
       "                .geemap-dark .jupyter-button {\n",
       "                    --jp-layout-color3: #383838;\n",
       "                }\n",
       "\n",
       "                .geemap-colab {\n",
       "                    background-color: var(--colab-primary-surface-color, white);\n",
       "                }\n",
       "\n",
       "                .geemap-colab .jupyter-button {\n",
       "                    --jp-layout-color3: var(--colab-primary-surface-color, white);\n",
       "                }\n",
       "            </style>\n",
       "            "
      ],
      "text/plain": [
       "<IPython.core.display.HTML object>"
      ]
     },
     "metadata": {},
     "output_type": "display_data"
    }
   ],
   "source": [
    "from pyproj import Transformer\n",
    "\n",
    "def appropriate_resolution(center, pixel_size):\n",
    "    # center: [lon, lat]\n",
    "    transformer = Transformer.from_crs(\"EPSG:4326\", \"EPSG:3409\")\n",
    "    x0, y0 = transformer.transform(center[1], center[0])\n",
    "\n",
    "    x1 = x0 + pixel_size; y1 = y0\n",
    "    x2 = x0; y2 = y0 + pixel_size\n",
    "    x3 = x0 + pixel_size; y3 = y0 + pixel_size\n",
    "    \n",
    "    x = np.array([x0, x1, x2, x3])\n",
    "    y = np.array([y0, y1, y2, y3])\n",
    "    \n",
    "    transformer = Transformer.from_crs(\"EPSG:3408\", \"EPSG:3857\")\n",
    "    xc, yc = transformer.transform(x, y)\n",
    "    \n",
    "    d1 = ((xc[0]-xc[1])**2 + (yc[0]-yc[1])**2)**0.5\n",
    "    d2 = ((xc[0]-xc[2])**2 + (yc[0]-yc[2])**2)**0.5\n",
    "    d3 = ((xc[0]-xc[3])**2 + (yc[0]-yc[3])**2)**0.5\n",
    "    \n",
    "    dp = np.round(np.mean([d1, d2, d3]), -1)\n",
    "    return dp"
   ]
  },
  {
   "cell_type": "markdown",
   "metadata": {},
   "source": [
    "### Numpy direct"
   ]
  },
  {
   "cell_type": "code",
   "execution_count": null,
   "metadata": {
    "scrolled": true
   },
   "outputs": [
    {
     "data": {
      "text/html": [
       "\n",
       "            <style>\n",
       "                .geemap-dark {\n",
       "                    --jp-widgets-color: white;\n",
       "                    --jp-widgets-label-color: white;\n",
       "                    --jp-ui-font-color1: white;\n",
       "                    --jp-layout-color2: #454545;\n",
       "                    background-color: #383838;\n",
       "                }\n",
       "\n",
       "                .geemap-dark .jupyter-button {\n",
       "                    --jp-layout-color3: #383838;\n",
       "                }\n",
       "\n",
       "                .geemap-colab {\n",
       "                    background-color: var(--colab-primary-surface-color, white);\n",
       "                }\n",
       "\n",
       "                .geemap-colab .jupyter-button {\n",
       "                    --jp-layout-color3: var(--colab-primary-surface-color, white);\n",
       "                }\n",
       "            </style>\n",
       "            "
      ],
      "text/plain": [
       "<IPython.core.display.HTML object>"
      ]
     },
     "metadata": {},
     "output_type": "display_data"
    },
    {
     "name": "stdout",
     "output_type": "stream",
     "text": [
      "##### [-59.0, -76.0] #####\n",
      "##### 2021 02 #####\n"
     ]
    },
    {
     "name": "stderr",
     "output_type": "stream",
     "text": [
      "100%|██████████████████████████████████████████████████████████████████████████████████| 28/28 [00:21<00:00,  1.28it/s]\n"
     ]
    },
    {
     "name": "stdout",
     "output_type": "stream",
     "text": [
      "SAR images:  17\n"
     ]
    },
    {
     "name": "stderr",
     "output_type": "stream",
     "text": [
      "100%|██████████████████████████████████████████████████████████████████████████████████| 16/16 [00:32<00:00,  2.03s/it]\n"
     ]
    },
    {
     "name": "stdout",
     "output_type": "stream",
     "text": [
      "Ice drift tracking: 6\n",
      "ERA5 data is loaded!\n",
      "##### 2021 03 #####\n"
     ]
    },
    {
     "name": "stderr",
     "output_type": "stream",
     "text": [
      "100%|██████████████████████████████████████████████████████████████████████████████████| 31/31 [00:28<00:00,  1.08it/s]\n"
     ]
    },
    {
     "name": "stdout",
     "output_type": "stream",
     "text": [
      "SAR images:  21\n"
     ]
    },
    {
     "name": "stderr",
     "output_type": "stream",
     "text": [
      "100%|██████████████████████████████████████████████████████████████████████████████████| 20/20 [00:42<00:00,  2.11s/it]\n"
     ]
    },
    {
     "name": "stdout",
     "output_type": "stream",
     "text": [
      "Ice drift tracking: 11\n",
      "ERA5 data is loaded!\n",
      "##### 2021 04 #####\n"
     ]
    },
    {
     "name": "stderr",
     "output_type": "stream",
     "text": [
      "100%|██████████████████████████████████████████████████████████████████████████████████| 30/30 [00:25<00:00,  1.18it/s]\n"
     ]
    },
    {
     "name": "stdout",
     "output_type": "stream",
     "text": [
      "SAR images:  18\n"
     ]
    },
    {
     "name": "stderr",
     "output_type": "stream",
     "text": [
      "100%|██████████████████████████████████████████████████████████████████████████████████| 17/17 [00:36<00:00,  2.17s/it]\n"
     ]
    },
    {
     "name": "stdout",
     "output_type": "stream",
     "text": [
      "Ice drift tracking: 10\n",
      "ERA5 data is loaded!\n",
      "##### 2021 05 #####\n"
     ]
    },
    {
     "name": "stderr",
     "output_type": "stream",
     "text": [
      "100%|██████████████████████████████████████████████████████████████████████████████████| 31/31 [00:32<00:00,  1.06s/it]\n"
     ]
    },
    {
     "name": "stdout",
     "output_type": "stream",
     "text": [
      "SAR images:  19\n"
     ]
    },
    {
     "name": "stderr",
     "output_type": "stream",
     "text": [
      "100%|██████████████████████████████████████████████████████████████████████████████████| 18/18 [00:38<00:00,  2.13s/it]\n"
     ]
    },
    {
     "name": "stdout",
     "output_type": "stream",
     "text": [
      "Ice drift tracking: 8\n",
      "ERA5 data is loaded!\n",
      "##### 2021 06 #####\n"
     ]
    },
    {
     "name": "stderr",
     "output_type": "stream",
     "text": [
      "100%|██████████████████████████████████████████████████████████████████████████████████| 30/30 [00:22<00:00,  1.34it/s]\n"
     ]
    },
    {
     "name": "stdout",
     "output_type": "stream",
     "text": [
      "SAR images:  15\n"
     ]
    },
    {
     "name": "stderr",
     "output_type": "stream",
     "text": [
      "100%|██████████████████████████████████████████████████████████████████████████████████| 14/14 [00:30<00:00,  2.16s/it]\n"
     ]
    },
    {
     "name": "stdout",
     "output_type": "stream",
     "text": [
      "Ice drift tracking: 6\n",
      "ERA5 data is loaded!\n",
      "##### 2021 07 #####\n"
     ]
    },
    {
     "name": "stderr",
     "output_type": "stream",
     "text": [
      "100%|██████████████████████████████████████████████████████████████████████████████████| 31/31 [00:24<00:00,  1.27it/s]\n"
     ]
    },
    {
     "name": "stdout",
     "output_type": "stream",
     "text": [
      "SAR images:  16\n"
     ]
    },
    {
     "name": "stderr",
     "output_type": "stream",
     "text": [
      "100%|██████████████████████████████████████████████████████████████████████████████████| 15/15 [00:33<00:00,  2.23s/it]\n"
     ]
    },
    {
     "name": "stdout",
     "output_type": "stream",
     "text": [
      "Ice drift tracking: 8\n",
      "ERA5 data is loaded!\n",
      "##### 2021 08 #####\n"
     ]
    },
    {
     "name": "stderr",
     "output_type": "stream",
     "text": [
      "100%|██████████████████████████████████████████████████████████████████████████████████| 31/31 [00:23<00:00,  1.32it/s]\n"
     ]
    },
    {
     "name": "stdout",
     "output_type": "stream",
     "text": [
      "SAR images:  17\n"
     ]
    },
    {
     "name": "stderr",
     "output_type": "stream",
     "text": [
      "100%|██████████████████████████████████████████████████████████████████████████████████| 16/16 [00:34<00:00,  2.14s/it]\n"
     ]
    },
    {
     "name": "stdout",
     "output_type": "stream",
     "text": [
      "Ice drift tracking: 9\n",
      "ERA5 data is loaded!\n",
      "##### 2021 09 #####\n"
     ]
    },
    {
     "name": "stderr",
     "output_type": "stream",
     "text": [
      "100%|██████████████████████████████████████████████████████████████████████████████████| 30/30 [00:25<00:00,  1.20it/s]\n"
     ]
    },
    {
     "name": "stdout",
     "output_type": "stream",
     "text": [
      "SAR images:  17\n"
     ]
    },
    {
     "name": "stderr",
     "output_type": "stream",
     "text": [
      "100%|██████████████████████████████████████████████████████████████████████████████████| 16/16 [00:37<00:00,  2.35s/it]\n"
     ]
    },
    {
     "name": "stdout",
     "output_type": "stream",
     "text": [
      "Ice drift tracking: 6\n",
      "ERA5 data is loaded!\n",
      "##### 2021 10 #####\n"
     ]
    },
    {
     "name": "stderr",
     "output_type": "stream",
     "text": [
      "100%|██████████████████████████████████████████████████████████████████████████████████| 31/31 [00:25<00:00,  1.23it/s]\n"
     ]
    },
    {
     "name": "stdout",
     "output_type": "stream",
     "text": [
      "SAR images:  18\n"
     ]
    },
    {
     "name": "stderr",
     "output_type": "stream",
     "text": [
      "100%|██████████████████████████████████████████████████████████████████████████████████| 17/17 [00:37<00:00,  2.22s/it]\n"
     ]
    },
    {
     "name": "stdout",
     "output_type": "stream",
     "text": [
      "Ice drift tracking: 9\n",
      "ERA5 data is loaded!\n",
      "##### 2021 11 #####\n"
     ]
    },
    {
     "name": "stderr",
     "output_type": "stream",
     "text": [
      "100%|██████████████████████████████████████████████████████████████████████████████████| 30/30 [00:24<00:00,  1.20it/s]\n"
     ]
    },
    {
     "name": "stdout",
     "output_type": "stream",
     "text": [
      "SAR images:  17\n"
     ]
    },
    {
     "name": "stderr",
     "output_type": "stream",
     "text": [
      "100%|██████████████████████████████████████████████████████████████████████████████████| 16/16 [00:56<00:00,  3.51s/it]\n"
     ]
    },
    {
     "name": "stdout",
     "output_type": "stream",
     "text": [
      "Ice drift tracking: 9\n",
      "ERA5 data is loaded!\n",
      "##### 2021 12 #####\n"
     ]
    },
    {
     "name": "stderr",
     "output_type": "stream",
     "text": [
      "100%|██████████████████████████████████████████████████████████████████████████████████| 31/31 [00:22<00:00,  1.38it/s]\n"
     ]
    },
    {
     "name": "stdout",
     "output_type": "stream",
     "text": [
      "SAR images:  15\n"
     ]
    },
    {
     "name": "stderr",
     "output_type": "stream",
     "text": [
      "100%|██████████████████████████████████████████████████████████████████████████████████| 14/14 [00:49<00:00,  3.52s/it]\n"
     ]
    },
    {
     "name": "stdout",
     "output_type": "stream",
     "text": [
      "Ice drift tracking: 10\n",
      "ERA5 data is loaded!\n",
      "##### [-59.0, -75.5] #####\n",
      "##### 2021 02 #####\n"
     ]
    },
    {
     "name": "stderr",
     "output_type": "stream",
     "text": [
      "100%|██████████████████████████████████████████████████████████████████████████████████| 28/28 [00:26<00:00,  1.07it/s]\n"
     ]
    },
    {
     "name": "stdout",
     "output_type": "stream",
     "text": [
      "SAR images:  18\n"
     ]
    },
    {
     "name": "stderr",
     "output_type": "stream",
     "text": [
      "100%|██████████████████████████████████████████████████████████████████████████████████| 17/17 [00:50<00:00,  2.94s/it]\n"
     ]
    },
    {
     "name": "stdout",
     "output_type": "stream",
     "text": [
      "Ice drift tracking: 17\n",
      "ERA5 data is loaded!\n",
      "##### 2021 03 #####\n"
     ]
    },
    {
     "name": "stderr",
     "output_type": "stream",
     "text": [
      "100%|██████████████████████████████████████████████████████████████████████████████████| 31/31 [00:30<00:00,  1.03it/s]\n"
     ]
    },
    {
     "name": "stdout",
     "output_type": "stream",
     "text": [
      "SAR images:  20\n"
     ]
    },
    {
     "name": "stderr",
     "output_type": "stream",
     "text": [
      "100%|██████████████████████████████████████████████████████████████████████████████████| 19/19 [00:58<00:00,  3.05s/it]\n"
     ]
    },
    {
     "name": "stdout",
     "output_type": "stream",
     "text": [
      "Ice drift tracking: 19\n",
      "ERA5 data is loaded!\n",
      "##### 2021 04 #####\n"
     ]
    },
    {
     "name": "stderr",
     "output_type": "stream",
     "text": [
      "100%|██████████████████████████████████████████████████████████████████████████████████| 30/30 [00:31<00:00,  1.06s/it]\n"
     ]
    },
    {
     "name": "stdout",
     "output_type": "stream",
     "text": [
      "SAR images:  19\n"
     ]
    },
    {
     "name": "stderr",
     "output_type": "stream",
     "text": [
      "100%|██████████████████████████████████████████████████████████████████████████████████| 18/18 [00:50<00:00,  2.83s/it]\n"
     ]
    },
    {
     "name": "stdout",
     "output_type": "stream",
     "text": [
      "Ice drift tracking: 17\n",
      "ERA5 data is loaded!\n",
      "##### 2021 05 #####\n"
     ]
    },
    {
     "name": "stderr",
     "output_type": "stream",
     "text": [
      "100%|██████████████████████████████████████████████████████████████████████████████████| 31/31 [00:30<00:00,  1.02it/s]\n"
     ]
    },
    {
     "name": "stdout",
     "output_type": "stream",
     "text": [
      "SAR images:  21\n"
     ]
    },
    {
     "name": "stderr",
     "output_type": "stream",
     "text": [
      "100%|██████████████████████████████████████████████████████████████████████████████████| 20/20 [01:00<00:00,  3.03s/it]\n"
     ]
    },
    {
     "name": "stdout",
     "output_type": "stream",
     "text": [
      "Ice drift tracking: 20\n",
      "ERA5 data is loaded!\n",
      "##### 2021 06 #####\n"
     ]
    },
    {
     "name": "stderr",
     "output_type": "stream",
     "text": [
      "100%|██████████████████████████████████████████████████████████████████████████████████| 30/30 [00:26<00:00,  1.13it/s]\n"
     ]
    },
    {
     "name": "stdout",
     "output_type": "stream",
     "text": [
      "SAR images:  18\n"
     ]
    },
    {
     "name": "stderr",
     "output_type": "stream",
     "text": [
      "100%|██████████████████████████████████████████████████████████████████████████████████| 17/17 [00:46<00:00,  2.74s/it]\n"
     ]
    },
    {
     "name": "stdout",
     "output_type": "stream",
     "text": [
      "Ice drift tracking: 16\n",
      "ERA5 data is loaded!\n",
      "##### 2021 07 #####\n"
     ]
    },
    {
     "name": "stderr",
     "output_type": "stream",
     "text": [
      "100%|██████████████████████████████████████████████████████████████████████████████████| 31/31 [00:28<00:00,  1.10it/s]\n"
     ]
    },
    {
     "name": "stdout",
     "output_type": "stream",
     "text": [
      "SAR images:  19\n"
     ]
    },
    {
     "name": "stderr",
     "output_type": "stream",
     "text": [
      "100%|██████████████████████████████████████████████████████████████████████████████████| 18/18 [00:51<00:00,  2.88s/it]\n"
     ]
    },
    {
     "name": "stdout",
     "output_type": "stream",
     "text": [
      "Ice drift tracking: 17\n",
      "ERA5 data is loaded!\n",
      "##### 2021 08 #####\n"
     ]
    },
    {
     "name": "stderr",
     "output_type": "stream",
     "text": [
      " 77%|███████████████████████████████████████████████████████████████▍                  | 24/31 [14:48<07:27, 63.87s/it]"
     ]
    }
   ],
   "source": [
    "######## START ###############################################################\n",
    "year = 2021\n",
    "w = [2, 0.5]\n",
    "pixel_size = 60\n",
    "bound = [-59, -76, -45, -70]\n",
    "\n",
    "for clon in np.arange(bound[0], bound[2], w[0]):\n",
    "    for clat in np.arange(bound[1], bound[3], w[1]):\n",
    "\n",
    "        print(f\"##### [{clon:.1f}, {clat:.1f}] #####\")\n",
    "\n",
    "        center0 = np.array([clon, clat]) # lon, lat (Actually, it's upper right corner of the polygon)\n",
    "        center = center0.copy()\n",
    "        bbox = [center[0]-w[0], center[1]-w[1], center[0], center[1]]\n",
    "        \n",
    "        extent = ee.Geometry.BBox(bbox[0], bbox[1], bbox[2], bbox[3]) #ee.Geometry.Rectangle(bbox)\n",
    "        \n",
    "        dp = appropriate_resolution(center0, pixel_size)\n",
    "        \n",
    "        # Define necessary functions with the defined bbox --------------------------\n",
    "        def collection_addbands(img):\n",
    "            bands = img.bandNames() # First band ('HH' or 'VV')\n",
    "            band = [ee.Algorithms.If(bands.contains('HH'), 'HH', 'VV')]\n",
    "            norm = img.select(band).divide(img.select('angle')).rename('norm')\n",
    "            img2 = img.addBands(norm, overwrite=True).select('norm')\n",
    "            return img2\n",
    "        def add_coverage(img):    \n",
    "            tol = 10000\n",
    "            overlap = img.geometry().intersection(extent, tol)\n",
    "            ratio = overlap.area(tol).divide(extent.area(tol))\n",
    "            return img.set({'coverage_ratio': ratio})\n",
    "        # calculate coverage area of image to roi\n",
    "        def coverage(img):\n",
    "            tol = 10000\n",
    "            overlap = img.geometry().intersection(extent, tol)\n",
    "            ratio = overlap.area(tol).divide(extent.area(tol))\n",
    "            return ratio.getInfo()\n",
    "        # -------------------------------------------------------------------------\n",
    "        \n",
    "        for month in range(2, 13):\n",
    "        \n",
    "            print(f\"##### {year} {str(month).zfill(2)} #####\")\n",
    "        \n",
    "            ### LOAD SENTINEL-1 DATA FROM GOOGLE EARTH ENGINE AND SAVE AS NUMPY ARRAYS #######################\n",
    "            start_date = f\"{year}-{str(month).zfill(2)}-01\" #02\n",
    "            if month == 12:\n",
    "                end_date = f\"{year+1}-01-01\" #20\n",
    "            else:\n",
    "                end_date = f\"{year}-{str(month+1).zfill(2)}-01\" #20\n",
    "            \n",
    "            d0 = datetime.strptime(start_date, \"%Y-%m-%d\")\n",
    "            d2 = datetime.strptime(end_date, \"%Y-%m-%d\")\n",
    "            \n",
    "            dn = abs(d2-d0).days\n",
    "            \n",
    "            map = geemap.Map()\n",
    "            array, times, Hs, Ws = [], [], [], []\n",
    "            \n",
    "            for i in tqdm(range(dn)):\n",
    "            \n",
    "                t1 = (d0 + timedelta(days = i))\n",
    "                t2 = (d0 + timedelta(days = i+1))\n",
    "            \n",
    "                t1_str = t1.strftime(\"%Y-%m-%d\")\n",
    "                \n",
    "                collection0 = ee.ImageCollection(\"COPERNICUS/S1_GRD\").filterBounds(extent).filterDate(t1, t2)\\\n",
    "                .filter(ee.Filter.eq('instrumentMode', 'EW'))\n",
    "                \n",
    "                collection1 = collection0.map(collection_addbands)\n",
    "                collection = collection1.map(add_coverage).filter(ee.Filter.gt('coverage_ratio', 0.7))\n",
    "            \n",
    "                S1_ids = collection.aggregate_array('system:id').getInfo()\n",
    "            \n",
    "                if len(S1_ids) > 1:\n",
    "                    rs = collection.aggregate_array('coverage_ratio').getInfo()\n",
    "                    S1_ids = [S1_ids[np.argmax(rs)]]\n",
    "            \n",
    "                for k in S1_ids:\n",
    "                    \n",
    "                    img = collection_addbands(ee.Image(k)).setDefaultProjection(\"EPSG:3857\") #(\"EPSG:3857\") #.reproject(\"EPSG:4326\")\n",
    "                    img = add_coverage(img)\n",
    "            \n",
    "                    name = os.path.basename(k)[17:32]\n",
    "                    description = f\"S1_{name}\"                   \n",
    "                    \n",
    "                    img2 = img.clip(extent).select(\"norm\") \n",
    "                        \n",
    "                    a = geemap.ee_to_numpy(img2, scale = dp)[:, :, 0]\n",
    "                    a[a>=0] = np.nan\n",
    "                    array.append(a)\n",
    "                    Hs.append(a.shape[0])\n",
    "                    Ws.append(a.shape[1])\n",
    "                    times.append(datetime.strptime(description[-15:], \"%Y%m%dT%H%M%S\"))\n",
    "\n",
    "            H_target = np.bincount(Hs).argmax()\n",
    "            W_target = np.bincount(Ws).argmax()\n",
    "            ind_target = np.where((Hs == H_target) & (Ws == W_target))[0]\n",
    "\n",
    "            array1 = np.zeros([len(ind_target), H_target, W_target])\n",
    "            for i, n in enumerate(ind_target):\n",
    "                array1[i] = array[n]\n",
    "            \n",
    "            del array\n",
    "        \n",
    "            print(\"SAR images: \", array1.shape[0])\n",
    "            \n",
    "            x0 = str(center[0].round(1))\n",
    "            y0 = str(center[1].round(1))\n",
    "            \n",
    "            # pkl_name = f\"D:\\\\Landfast\\\\numpy_image\\\\S1_img_{year}{str(month).zfill(2)}_{x0}_{y0}.pkl\"\n",
    "            # pkl_object = [array1, times, bbox]\n",
    "            # with open(pkl_name, 'wb') as handle:\n",
    "            #     pickle.dump(pkl_object, handle)\n",
    "        \n",
    "            ### DERIVE AND SAVE SEA ICE DRIFT #######################\n",
    "            ind_final1 = []\n",
    "            ind_final2 = []\n",
    "            pkl_objects = []\n",
    "            upms = []\n",
    "            vpms = []\n",
    "            apms = []\n",
    "            rpms = []\n",
    "            hpms = []\n",
    "            latpms = []\n",
    "            lonpms = []\n",
    "            \n",
    "            for ind1 in tqdm(range(0, array1.shape[0]-1)):\n",
    "                ind2 = ind1 + 1\n",
    "                pkl_object = derive_drift(array1[ind1], array1[ind2], times[ind1], times[ind2], pixel_size, pm_step = 30)\n",
    "            \n",
    "                if len(pkl_object) > 0:\n",
    "                    # pkl_objects.append(pkl_object)\n",
    "                    upm, vpm, apm, rpm, hpm, lon2pm, lat2pm = pkl_object\n",
    "                    upms.append(upm)\n",
    "                    vpms.append(vpm)\n",
    "                    apms.append(apm)\n",
    "                    rpms.append(rpm)\n",
    "                    hpms.append(hpm)\n",
    "                    latpms.append(lat2pm)\n",
    "                    lonpms.append(lon2pm)\n",
    "                    \n",
    "                    if ind1 not in ind_final1:\n",
    "                        ind_final1.append(ind1)\n",
    "                    if ind2 not in ind_final2:\n",
    "                        ind_final2.append(ind2)\n",
    "            \n",
    "            upms = np.array(upms)\n",
    "            vpms = np.array(vpms)\n",
    "            apms = np.array(apms)\n",
    "            rpms = np.array(rpms)\n",
    "            hpms = np.array(hpms)\n",
    "            latpms = np.array(latpms)\n",
    "            lonpms = np.array(lonpms)\n",
    "            \n",
    "            pkl_objects = [upms, vpms, apms, rpms, hpms, latpms, lonpms]\n",
    "            \n",
    "            pkl_name = f\"D:\\\\Landfast\\\\numpy_image\\\\S1_vel_{year}{str(month).zfill(2)}_{x0}_{y0}.pkl\"\n",
    "            pkl_save = [pkl_objects, ind_final1, ind_final2, array1, times, bbox]\n",
    "            with open(pkl_name, 'wb') as handle:\n",
    "                pickle.dump(pkl_save, handle)\n",
    "\n",
    "            print(f\"Ice drift tracking: {len(ind_final1)}\")\n",
    "        \n",
    "            ### LOAD AND SAVE ERA5 REANALYSIS DATA #######################\n",
    "            days = [str(i).zfill(2) for i in range(1, 32)]\n",
    "            ds, fl = retrieve_hourly_ERA5_bbox(year, str(month).zfill(2), days, bbox)\n",
    "        \n",
    "            era_times = ds.valid_time.values\n",
    "            era_lat = ds.latitude.values\n",
    "            era_lon = ds.longitude.values\n",
    "            era_u10 = ds.u10.values\n",
    "            era_v10 = ds.v10.values\n",
    "        \n",
    "            pkl_name = f\"D:\\\\Landfast\\\\numpy_image\\\\S1_wind_{year}{str(month).zfill(2)}_{x0}_{y0}.pkl\"\n",
    "            pkl_save = [era_times, era_lat, era_lon, era_u10, era_v10]\n",
    "            with open(pkl_name, 'wb') as handle:\n",
    "                pickle.dump(pkl_save, handle)\n",
    "        \n",
    "            del ds\n",
    "            \n",
    "            try:\n",
    "                os.remove(fl)\n",
    "            except:\n",
    "                pass\n",
    "                \n",
    "            print(\"ERA5 data is loaded!\")\n",
    "\n",
    "print(\"Done!\")"
   ]
  },
  {
   "cell_type": "markdown",
   "metadata": {},
   "source": [
    "### Image download"
   ]
  },
  {
   "cell_type": "code",
   "execution_count": null,
   "metadata": {},
   "outputs": [
    {
     "data": {
      "text/html": [
       "\n",
       "            <style>\n",
       "                .geemap-dark {\n",
       "                    --jp-widgets-color: white;\n",
       "                    --jp-widgets-label-color: white;\n",
       "                    --jp-ui-font-color1: white;\n",
       "                    --jp-layout-color2: #454545;\n",
       "                    background-color: #383838;\n",
       "                }\n",
       "\n",
       "                .geemap-dark .jupyter-button {\n",
       "                    --jp-layout-color3: #383838;\n",
       "                }\n",
       "\n",
       "                .geemap-colab {\n",
       "                    background-color: var(--colab-primary-surface-color, white);\n",
       "                }\n",
       "\n",
       "                .geemap-colab .jupyter-button {\n",
       "                    --jp-layout-color3: var(--colab-primary-surface-color, white);\n",
       "                }\n",
       "            </style>\n",
       "            "
      ],
      "text/plain": [
       "<IPython.core.display.HTML object>"
      ]
     },
     "metadata": {},
     "output_type": "display_data"
    },
    {
     "name": "stderr",
     "output_type": "stream",
     "text": [
      "Consider adjusting `region`, `scale` and/or `dtype` to reduce the s1_2018-09-01_1.tif download size (raw: 1.26 GB).\n"
     ]
    },
    {
     "name": "stdout",
     "output_type": "stream",
     "text": [
      "Downloading 1/1: D:\\Eddies\\S1_eddies\\s1_2018-09-01_1.tif\n"
     ]
    },
    {
     "data": {
      "application/vnd.jupyter.widget-view+json": {
       "model_id": "04faf6f7c1d44800ab9ec9983d1b228c",
       "version_major": 2,
       "version_minor": 0
      },
      "text/plain": [
       "s1_2018-09-01_1.tif: |                                                | 0.00/1.26G (raw) [  0.0%] in 00:00 (et…"
      ]
     },
     "metadata": {},
     "output_type": "display_data"
    },
    {
     "name": "stdout",
     "output_type": "stream",
     "text": [
      "Downloaded 1 tiles in 113.99481678009033 seconds.\n",
      "S1_20180901T075438 0.9470393927363248\n"
     ]
    },
    {
     "name": "stderr",
     "output_type": "stream",
     "text": [
      "Consider adjusting `region`, `scale` and/or `dtype` to reduce the s1_2018-09-02_1.tif download size (raw: 1.26 GB).\n"
     ]
    },
    {
     "name": "stdout",
     "output_type": "stream",
     "text": [
      "Downloading 1/1: D:\\Eddies\\S1_eddies\\s1_2018-09-02_1.tif\n"
     ]
    },
    {
     "data": {
      "application/vnd.jupyter.widget-view+json": {
       "model_id": "66a76a5600644fa89d6e340bfcac6b2c",
       "version_major": 2,
       "version_minor": 0
      },
      "text/plain": [
       "s1_2018-09-02_1.tif: |                                                | 0.00/1.26G (raw) [  0.0%] in 00:00 (et…"
      ]
     },
     "metadata": {},
     "output_type": "display_data"
    },
    {
     "name": "stdout",
     "output_type": "stream",
     "text": [
      "Downloaded 1 tiles in 118.15346145629883 seconds.\n",
      "S1_20180902T074528 0.9073411533207932\n"
     ]
    },
    {
     "name": "stderr",
     "output_type": "stream",
     "text": [
      "Consider adjusting `region`, `scale` and/or `dtype` to reduce the s1_2018-09-03_1.tif download size (raw: 1.26 GB).\n"
     ]
    },
    {
     "name": "stdout",
     "output_type": "stream",
     "text": [
      "Downloading 1/1: D:\\Eddies\\S1_eddies\\s1_2018-09-03_1.tif\n"
     ]
    },
    {
     "data": {
      "application/vnd.jupyter.widget-view+json": {
       "model_id": "bd30a0f3f9e14de5b0daa37c76ff05ca",
       "version_major": 2,
       "version_minor": 0
      },
      "text/plain": [
       "s1_2018-09-03_1.tif: |                                                | 0.00/1.26G (raw) [  0.0%] in 00:00 (et…"
      ]
     },
     "metadata": {},
     "output_type": "display_data"
    },
    {
     "name": "stdout",
     "output_type": "stream",
     "text": [
      "Downloaded 1 tiles in 122.38756966590881 seconds.\n",
      "S1_20180903T073812 0.9918406932655337\n"
     ]
    },
    {
     "name": "stderr",
     "output_type": "stream",
     "text": [
      "Consider adjusting `region`, `scale` and/or `dtype` to reduce the s1_2018-09-06_1.tif download size (raw: 1.26 GB).\n"
     ]
    },
    {
     "name": "stdout",
     "output_type": "stream",
     "text": [
      "Downloading 1/1: D:\\Eddies\\S1_eddies\\s1_2018-09-06_1.tif\n"
     ]
    },
    {
     "data": {
      "application/vnd.jupyter.widget-view+json": {
       "model_id": "39d235878be748e5b05849273b2fd8c1",
       "version_major": 2,
       "version_minor": 0
      },
      "text/plain": [
       "s1_2018-09-06_1.tif: |                                                | 0.00/1.26G (raw) [  0.0%] in 00:00 (et…"
      ]
     },
     "metadata": {},
     "output_type": "display_data"
    },
    {
     "name": "stdout",
     "output_type": "stream",
     "text": [
      "Downloaded 1 tiles in 104.99851870536804 seconds.\n",
      "S1_20180906T080234 0.8433660757711265\n"
     ]
    },
    {
     "name": "stderr",
     "output_type": "stream",
     "text": [
      "Consider adjusting `region`, `scale` and/or `dtype` to reduce the s1_2018-09-07_1.tif download size (raw: 1.26 GB).\n"
     ]
    },
    {
     "name": "stdout",
     "output_type": "stream",
     "text": [
      "Downloading 1/1: D:\\Eddies\\S1_eddies\\s1_2018-09-07_1.tif\n"
     ]
    },
    {
     "data": {
      "application/vnd.jupyter.widget-view+json": {
       "model_id": "02c3958294f343569c85704763605e96",
       "version_major": 2,
       "version_minor": 0
      },
      "text/plain": [
       "s1_2018-09-07_1.tif: |                                                | 0.00/1.26G (raw) [  0.0%] in 00:00 (et…"
      ]
     },
     "metadata": {},
     "output_type": "display_data"
    },
    {
     "name": "stdout",
     "output_type": "stream",
     "text": [
      "Downloaded 1 tiles in 118.30421471595764 seconds.\n",
      "S1_20180907T075345 0.9685802566334515\n",
      "Downloading 1/1: D:\\Eddies\\S1_eddies\\s1_2018-09-08_1.tif\n"
     ]
    },
    {
     "name": "stderr",
     "output_type": "stream",
     "text": [
      "Consider adjusting `region`, `scale` and/or `dtype` to reduce the s1_2018-09-08_1.tif download size (raw: 1.26 GB).\n"
     ]
    },
    {
     "data": {
      "application/vnd.jupyter.widget-view+json": {
       "model_id": "2c4d4a05670943f28b3e8e50d1bdd8ab",
       "version_major": 2,
       "version_minor": 0
      },
      "text/plain": [
       "s1_2018-09-08_1.tif: |                                                | 0.00/1.26G (raw) [  0.0%] in 00:00 (et…"
      ]
     },
     "metadata": {},
     "output_type": "display_data"
    },
    {
     "name": "stdout",
     "output_type": "stream",
     "text": [
      "Downloaded 1 tiles in 120.28469705581665 seconds.\n",
      "S1_20180908T074614 0.9700820870832472\n",
      "Downloading 1/1: D:\\Eddies\\S1_eddies\\s1_2018-09-09_1.tif\n"
     ]
    },
    {
     "name": "stderr",
     "output_type": "stream",
     "text": [
      "Consider adjusting `region`, `scale` and/or `dtype` to reduce the s1_2018-09-09_1.tif download size (raw: 1.26 GB).\n"
     ]
    },
    {
     "data": {
      "application/vnd.jupyter.widget-view+json": {
       "model_id": "ee0e307ae32148b580f44dff1a24a7e4",
       "version_major": 2,
       "version_minor": 0
      },
      "text/plain": [
       "s1_2018-09-09_1.tif: |                                                | 0.00/1.26G (raw) [  0.0%] in 00:00 (et…"
      ]
     },
     "metadata": {},
     "output_type": "display_data"
    },
    {
     "name": "stdout",
     "output_type": "stream",
     "text": [
      "Downloaded 1 tiles in 119.87473940849304 seconds.\n",
      "S1_20180909T073725 0.9947959986248036\n"
     ]
    },
    {
     "name": "stderr",
     "output_type": "stream",
     "text": [
      "Consider adjusting `region`, `scale` and/or `dtype` to reduce the s1_2018-09-10_1.tif download size (raw: 1.26 GB).\n"
     ]
    },
    {
     "name": "stdout",
     "output_type": "stream",
     "text": [
      "Downloading 1/1: D:\\Eddies\\S1_eddies\\s1_2018-09-10_1.tif\n"
     ]
    },
    {
     "data": {
      "application/vnd.jupyter.widget-view+json": {
       "model_id": "e86a861fe95c4b41b9696775cf51cb2f",
       "version_major": 2,
       "version_minor": 0
      },
      "text/plain": [
       "s1_2018-09-10_1.tif: |                                                | 0.00/1.26G (raw) [  0.0%] in 00:00 (et…"
      ]
     },
     "metadata": {},
     "output_type": "display_data"
    },
    {
     "name": "stdout",
     "output_type": "stream",
     "text": [
      "Downloaded 1 tiles in 118.07758259773254 seconds.\n",
      "S1_20180910T072958 0.8920612076163376\n"
     ]
    },
    {
     "name": "stderr",
     "output_type": "stream",
     "text": [
      "Consider adjusting `region`, `scale` and/or `dtype` to reduce the s1_2018-09-12_1.tif download size (raw: 1.26 GB).\n"
     ]
    },
    {
     "name": "stdout",
     "output_type": "stream",
     "text": [
      "Downloading 1/1: D:\\Eddies\\S1_eddies\\s1_2018-09-12_1.tif\n"
     ]
    },
    {
     "data": {
      "application/vnd.jupyter.widget-view+json": {
       "model_id": "c252c8bc470249bfa57c7504e00f24bd",
       "version_major": 2,
       "version_minor": 0
      },
      "text/plain": [
       "s1_2018-09-12_1.tif: |                                                | 0.00/1.26G (raw) [  0.0%] in 00:00 (et…"
      ]
     },
     "metadata": {},
     "output_type": "display_data"
    },
    {
     "name": "stdout",
     "output_type": "stream",
     "text": [
      "Downloaded 1 tiles in 106.29089403152466 seconds.\n",
      "S1_20180912T080154 0.859994016018347\n"
     ]
    },
    {
     "name": "stderr",
     "output_type": "stream",
     "text": [
      "Consider adjusting `region`, `scale` and/or `dtype` to reduce the s1_2018-09-13_1.tif download size (raw: 1.26 GB).\n"
     ]
    },
    {
     "name": "stdout",
     "output_type": "stream",
     "text": [
      "Downloading 1/1: D:\\Eddies\\S1_eddies\\s1_2018-09-13_1.tif\n"
     ]
    },
    {
     "data": {
      "application/vnd.jupyter.widget-view+json": {
       "model_id": "d3be286830314a8eba4bd545d4f6d8df",
       "version_major": 2,
       "version_minor": 0
      },
      "text/plain": [
       "s1_2018-09-13_1.tif: |                                                | 0.00/1.26G (raw) [  0.0%] in 00:00 (et…"
      ]
     },
     "metadata": {},
     "output_type": "display_data"
    },
    {
     "name": "stdout",
     "output_type": "stream",
     "text": [
      "Downloaded 1 tiles in 115.72850275039673 seconds.\n",
      "S1_20180913T075438 0.9470150710351196\n"
     ]
    },
    {
     "name": "stderr",
     "output_type": "stream",
     "text": [
      "Consider adjusting `region`, `scale` and/or `dtype` to reduce the s1_2018-09-14_1.tif download size (raw: 1.26 GB).\n"
     ]
    },
    {
     "name": "stdout",
     "output_type": "stream",
     "text": [
      "Downloading 1/1: D:\\Eddies\\S1_eddies\\s1_2018-09-14_1.tif\n"
     ]
    },
    {
     "data": {
      "application/vnd.jupyter.widget-view+json": {
       "model_id": "bfcb41e1f42a46db96ea3ca030b6b693",
       "version_major": 2,
       "version_minor": 0
      },
      "text/plain": [
       "s1_2018-09-14_1.tif: |                                                | 0.00/1.26G (raw) [  0.0%] in 00:00 (et…"
      ]
     },
     "metadata": {},
     "output_type": "display_data"
    },
    {
     "name": "stdout",
     "output_type": "stream",
     "text": [
      "Downloaded 1 tiles in 124.37215375900269 seconds.\n",
      "S1_20180914T074528 0.9073505668261668\n",
      "Downloading 1/1: D:\\Eddies\\S1_eddies\\s1_2018-09-15_1.tif\n"
     ]
    },
    {
     "name": "stderr",
     "output_type": "stream",
     "text": [
      "Consider adjusting `region`, `scale` and/or `dtype` to reduce the s1_2018-09-15_1.tif download size (raw: 1.26 GB).\n"
     ]
    },
    {
     "data": {
      "application/vnd.jupyter.widget-view+json": {
       "model_id": "fd92609a4a9346388274aa1d7b74489d",
       "version_major": 2,
       "version_minor": 0
      },
      "text/plain": [
       "s1_2018-09-15_1.tif: |                                                | 0.00/1.26G (raw) [  0.0%] in 00:00 (et…"
      ]
     },
     "metadata": {},
     "output_type": "display_data"
    },
    {
     "name": "stdout",
     "output_type": "stream",
     "text": [
      "Downloaded 1 tiles in 115.627690076828 seconds.\n",
      "S1_20180915T073812 0.9918373048326302\n"
     ]
    },
    {
     "name": "stderr",
     "output_type": "stream",
     "text": [
      "Consider adjusting `region`, `scale` and/or `dtype` to reduce the s1_2018-09-16_1.tif download size (raw: 1.26 GB).\n"
     ]
    },
    {
     "name": "stdout",
     "output_type": "stream",
     "text": [
      "Downloading 1/1: D:\\Eddies\\S1_eddies\\s1_2018-09-16_1.tif\n"
     ]
    },
    {
     "data": {
      "application/vnd.jupyter.widget-view+json": {
       "model_id": "1633fb31341c447699059ac6a640051a",
       "version_major": 2,
       "version_minor": 0
      },
      "text/plain": [
       "s1_2018-09-16_1.tif: |                                                | 0.00/1.26G (raw) [  0.0%] in 00:00 (et…"
      ]
     },
     "metadata": {},
     "output_type": "display_data"
    },
    {
     "name": "stdout",
     "output_type": "stream",
     "text": [
      "Downloaded 1 tiles in 107.52686381340027 seconds.\n",
      "S1_20180916T072914 0.8906336582868617\n"
     ]
    },
    {
     "name": "stderr",
     "output_type": "stream",
     "text": [
      "Consider adjusting `region`, `scale` and/or `dtype` to reduce the s1_2018-09-18_1.tif download size (raw: 1.26 GB).\n"
     ]
    },
    {
     "name": "stdout",
     "output_type": "stream",
     "text": [
      "Downloading 1/1: D:\\Eddies\\S1_eddies\\s1_2018-09-18_1.tif\n"
     ]
    },
    {
     "data": {
      "application/vnd.jupyter.widget-view+json": {
       "model_id": "275329fc5d0345758373e40ff10a302e",
       "version_major": 2,
       "version_minor": 0
      },
      "text/plain": [
       "s1_2018-09-18_1.tif: |                                                | 0.00/1.26G (raw) [  0.0%] in 00:00 (et…"
      ]
     },
     "metadata": {},
     "output_type": "display_data"
    },
    {
     "name": "stdout",
     "output_type": "stream",
     "text": [
      "Downloaded 1 tiles in 115.3432822227478 seconds.\n",
      "S1_20180918T080234 0.843559673318133\n",
      "Downloading 1/1: D:\\Eddies\\S1_eddies\\s1_2018-09-19_1.tif\n"
     ]
    },
    {
     "name": "stderr",
     "output_type": "stream",
     "text": [
      "Consider adjusting `region`, `scale` and/or `dtype` to reduce the s1_2018-09-19_1.tif download size (raw: 1.26 GB).\n"
     ]
    },
    {
     "data": {
      "application/vnd.jupyter.widget-view+json": {
       "model_id": "eccf8ec7a2844cc2b5086fe5d3f3c4a1",
       "version_major": 2,
       "version_minor": 0
      },
      "text/plain": [
       "s1_2018-09-19_1.tif: |                                                | 0.00/1.26G (raw) [  0.0%] in 00:00 (et…"
      ]
     },
     "metadata": {},
     "output_type": "display_data"
    },
    {
     "name": "stdout",
     "output_type": "stream",
     "text": [
      "Downloaded 1 tiles in 117.78245091438293 seconds.\n",
      "S1_20180919T075346 0.9686879486880012\n",
      "Downloading 1/1: D:\\Eddies\\S1_eddies\\s1_2018-09-20_1.tif\n"
     ]
    },
    {
     "name": "stderr",
     "output_type": "stream",
     "text": [
      "Consider adjusting `region`, `scale` and/or `dtype` to reduce the s1_2018-09-20_1.tif download size (raw: 1.26 GB).\n"
     ]
    },
    {
     "data": {
      "application/vnd.jupyter.widget-view+json": {
       "model_id": "57ea5d215d404b9ca8570263891ee345",
       "version_major": 2,
       "version_minor": 0
      },
      "text/plain": [
       "s1_2018-09-20_1.tif: |                                                | 0.00/1.26G (raw) [  0.0%] in 00:00 (et…"
      ]
     },
     "metadata": {},
     "output_type": "display_data"
    },
    {
     "name": "stdout",
     "output_type": "stream",
     "text": [
      "Downloaded 1 tiles in 117.88543725013733 seconds.\n",
      "S1_20180920T074615 0.9700790996501774\n"
     ]
    },
    {
     "name": "stderr",
     "output_type": "stream",
     "text": [
      "Consider adjusting `region`, `scale` and/or `dtype` to reduce the s1_2018-09-21_1.tif download size (raw: 1.26 GB).\n"
     ]
    },
    {
     "name": "stdout",
     "output_type": "stream",
     "text": [
      "Downloading 1/1: D:\\Eddies\\S1_eddies\\s1_2018-09-21_1.tif\n"
     ]
    },
    {
     "data": {
      "application/vnd.jupyter.widget-view+json": {
       "model_id": "b22734c51cc246de8c01a97ca063679d",
       "version_major": 2,
       "version_minor": 0
      },
      "text/plain": [
       "s1_2018-09-21_1.tif: |                                                | 0.00/1.26G (raw) [  0.0%] in 00:00 (et…"
      ]
     },
     "metadata": {},
     "output_type": "display_data"
    },
    {
     "name": "stdout",
     "output_type": "stream",
     "text": [
      "Downloaded 1 tiles in 120.16597771644592 seconds.\n",
      "S1_20180921T073726 0.9947356795424144\n",
      "Downloading 1/1: D:\\Eddies\\S1_eddies\\s1_2018-09-22_1.tif\n"
     ]
    },
    {
     "name": "stderr",
     "output_type": "stream",
     "text": [
      "Consider adjusting `region`, `scale` and/or `dtype` to reduce the s1_2018-09-22_1.tif download size (raw: 1.26 GB).\n"
     ]
    },
    {
     "data": {
      "application/vnd.jupyter.widget-view+json": {
       "model_id": "dcd3ae04380f4b82b8ff859929aeb622",
       "version_major": 2,
       "version_minor": 0
      },
      "text/plain": [
       "s1_2018-09-22_1.tif: |                                                | 0.00/1.26G (raw) [  0.0%] in 00:00 (et…"
      ]
     },
     "metadata": {},
     "output_type": "display_data"
    },
    {
     "name": "stdout",
     "output_type": "stream",
     "text": [
      "Downloaded 1 tiles in 105.25398659706116 seconds.\n",
      "S1_20180922T072958 0.891880780626682\n"
     ]
    },
    {
     "name": "stderr",
     "output_type": "stream",
     "text": [
      "Consider adjusting `region`, `scale` and/or `dtype` to reduce the s1_2018-09-24_1.tif download size (raw: 1.26 GB).\n"
     ]
    },
    {
     "name": "stdout",
     "output_type": "stream",
     "text": [
      "Downloading 1/1: D:\\Eddies\\S1_eddies\\s1_2018-09-24_1.tif\n"
     ]
    },
    {
     "data": {
      "application/vnd.jupyter.widget-view+json": {
       "model_id": "58df32b623ec4842bb13430433e727a0",
       "version_major": 2,
       "version_minor": 0
      },
      "text/plain": [
       "s1_2018-09-24_1.tif: |                                                | 0.00/1.26G (raw) [  0.0%] in 00:00 (et…"
      ]
     },
     "metadata": {},
     "output_type": "display_data"
    },
    {
     "name": "stdout",
     "output_type": "stream",
     "text": [
      "Downloaded 1 tiles in 106.07610321044922 seconds.\n",
      "S1_20180924T080154 0.8599954458537935\n",
      "Downloading 1/1: D:\\Eddies\\S1_eddies\\s1_2018-09-25_1.tif\n"
     ]
    },
    {
     "name": "stderr",
     "output_type": "stream",
     "text": [
      "Consider adjusting `region`, `scale` and/or `dtype` to reduce the s1_2018-09-25_1.tif download size (raw: 1.26 GB).\n"
     ]
    },
    {
     "data": {
      "application/vnd.jupyter.widget-view+json": {
       "model_id": "58278583c2184e14b6caa2fea2c92945",
       "version_major": 2,
       "version_minor": 0
      },
      "text/plain": [
       "s1_2018-09-25_1.tif: |                                                | 0.00/1.26G (raw) [  0.0%] in 00:00 (et…"
      ]
     },
     "metadata": {},
     "output_type": "display_data"
    },
    {
     "name": "stdout",
     "output_type": "stream",
     "text": [
      "Downloaded 1 tiles in 115.9787666797638 seconds.\n",
      "S1_20180925T075438 0.9469975633904661\n"
     ]
    },
    {
     "name": "stderr",
     "output_type": "stream",
     "text": [
      "Consider adjusting `region`, `scale` and/or `dtype` to reduce the s1_2018-09-26_1.tif download size (raw: 1.26 GB).\n"
     ]
    },
    {
     "name": "stdout",
     "output_type": "stream",
     "text": [
      "Downloading 1/1: D:\\Eddies\\S1_eddies\\s1_2018-09-26_1.tif\n"
     ]
    },
    {
     "data": {
      "application/vnd.jupyter.widget-view+json": {
       "model_id": "47a322b1915e4f8aa7d7286b3bcb9405",
       "version_major": 2,
       "version_minor": 0
      },
      "text/plain": [
       "s1_2018-09-26_1.tif: |                                                | 0.00/1.26G (raw) [  0.0%] in 00:00 (et…"
      ]
     },
     "metadata": {},
     "output_type": "display_data"
    },
    {
     "name": "stdout",
     "output_type": "stream",
     "text": [
      "Downloaded 1 tiles in 106.70106601715088 seconds.\n",
      "S1_20180926T074528 0.9073405069568565\n"
     ]
    },
    {
     "name": "stderr",
     "output_type": "stream",
     "text": [
      "Consider adjusting `region`, `scale` and/or `dtype` to reduce the s1_2018-09-27_1.tif download size (raw: 1.26 GB).\n"
     ]
    },
    {
     "name": "stdout",
     "output_type": "stream",
     "text": [
      "Downloading 1/1: D:\\Eddies\\S1_eddies\\s1_2018-09-27_1.tif\n"
     ]
    },
    {
     "data": {
      "application/vnd.jupyter.widget-view+json": {
       "model_id": "8128cdb073d444f282653763edfcbea4",
       "version_major": 2,
       "version_minor": 0
      },
      "text/plain": [
       "s1_2018-09-27_1.tif: |                                                | 0.00/1.26G (raw) [  0.0%] in 00:00 (et…"
      ]
     },
     "metadata": {},
     "output_type": "display_data"
    },
    {
     "name": "stdout",
     "output_type": "stream",
     "text": [
      "Downloaded 1 tiles in 118.18825149536133 seconds.\n",
      "S1_20180927T073812 0.9918958435037846\n"
     ]
    },
    {
     "name": "stderr",
     "output_type": "stream",
     "text": [
      "Consider adjusting `region`, `scale` and/or `dtype` to reduce the s1_2018-09-28_1.tif download size (raw: 1.26 GB).\n"
     ]
    },
    {
     "name": "stdout",
     "output_type": "stream",
     "text": [
      "Downloading 1/1: D:\\Eddies\\S1_eddies\\s1_2018-09-28_1.tif\n"
     ]
    },
    {
     "data": {
      "application/vnd.jupyter.widget-view+json": {
       "model_id": "a05dfc54a72d49499cf51d6423d310ec",
       "version_major": 2,
       "version_minor": 0
      },
      "text/plain": [
       "s1_2018-09-28_1.tif: |                                                | 0.00/1.26G (raw) [  0.0%] in 00:00 (et…"
      ]
     },
     "metadata": {},
     "output_type": "display_data"
    },
    {
     "name": "stdout",
     "output_type": "stream",
     "text": [
      "Downloaded 1 tiles in 106.50257587432861 seconds.\n",
      "S1_20180928T072915 0.8907670711821679\n"
     ]
    },
    {
     "name": "stderr",
     "output_type": "stream",
     "text": [
      "Consider adjusting `region`, `scale` and/or `dtype` to reduce the s1_2018-09-30_1.tif download size (raw: 1.26 GB).\n"
     ]
    },
    {
     "name": "stdout",
     "output_type": "stream",
     "text": [
      "Downloading 1/1: D:\\Eddies\\S1_eddies\\s1_2018-09-30_1.tif\n"
     ]
    },
    {
     "data": {
      "application/vnd.jupyter.widget-view+json": {
       "model_id": "78c9b4a9c4ae40e19d8438afe37d7120",
       "version_major": 2,
       "version_minor": 0
      },
      "text/plain": [
       "s1_2018-09-30_1.tif: |                                                | 0.00/1.26G (raw) [  0.0%] in 00:00 (et…"
      ]
     },
     "metadata": {},
     "output_type": "display_data"
    },
    {
     "name": "stdout",
     "output_type": "stream",
     "text": [
      "Downloaded 1 tiles in 101.52798318862915 seconds.\n",
      "S1_20180930T080235 0.8436595979708916\n"
     ]
    },
    {
     "name": "stderr",
     "output_type": "stream",
     "text": [
      "Consider adjusting `region`, `scale` and/or `dtype` to reduce the s1_2018-10-01_1.tif download size (raw: 1.26 GB).\n"
     ]
    },
    {
     "name": "stdout",
     "output_type": "stream",
     "text": [
      "Downloading 1/1: D:\\Eddies\\S1_eddies\\s1_2018-10-01_1.tif\n"
     ]
    },
    {
     "data": {
      "application/vnd.jupyter.widget-view+json": {
       "model_id": "ffe6ae7788bf48cc842c32e24b7da55f",
       "version_major": 2,
       "version_minor": 0
      },
      "text/plain": [
       "s1_2018-10-01_1.tif: |                                                | 0.00/1.26G (raw) [  0.0%] in 00:00 (et…"
      ]
     },
     "metadata": {},
     "output_type": "display_data"
    },
    {
     "name": "stdout",
     "output_type": "stream",
     "text": [
      "Downloaded 1 tiles in 107.50702619552612 seconds.\n",
      "S1_20181001T173911 0.8969703296120585\n",
      "Downloading 1/1: D:\\Eddies\\S1_eddies\\s1_2018-10-02_1.tif\n"
     ]
    },
    {
     "name": "stderr",
     "output_type": "stream",
     "text": [
      "Consider adjusting `region`, `scale` and/or `dtype` to reduce the s1_2018-10-02_1.tif download size (raw: 1.26 GB).\n"
     ]
    },
    {
     "data": {
      "application/vnd.jupyter.widget-view+json": {
       "model_id": "0943253044444d45a3e2e1a75e2f9f17",
       "version_major": 2,
       "version_minor": 0
      },
      "text/plain": [
       "s1_2018-10-02_1.tif: |                                                | 0.00/1.26G (raw) [  0.0%] in 00:00 (et…"
      ]
     },
     "metadata": {},
     "output_type": "display_data"
    },
    {
     "name": "stdout",
     "output_type": "stream",
     "text": [
      "Downloaded 1 tiles in 113.006108045578 seconds.\n",
      "S1_20181002T074615 0.9700613672226681\n"
     ]
    },
    {
     "name": "stderr",
     "output_type": "stream",
     "text": [
      "Consider adjusting `region`, `scale` and/or `dtype` to reduce the s1_2018-10-03_1.tif download size (raw: 1.26 GB).\n"
     ]
    },
    {
     "name": "stdout",
     "output_type": "stream",
     "text": [
      "Downloading 1/1: D:\\Eddies\\S1_eddies\\s1_2018-10-03_1.tif\n"
     ]
    },
    {
     "data": {
      "application/vnd.jupyter.widget-view+json": {
       "model_id": "d4adcc64c1694a7cb831a72d5a78fa2a",
       "version_major": 2,
       "version_minor": 0
      },
      "text/plain": [
       "s1_2018-10-03_1.tif: |                                                | 0.00/1.26G (raw) [  0.0%] in 00:00 (et…"
      ]
     },
     "metadata": {},
     "output_type": "display_data"
    },
    {
     "name": "stdout",
     "output_type": "stream",
     "text": [
      "Downloaded 1 tiles in 117.51891493797302 seconds.\n",
      "S1_20181003T073726 0.9946627045062781\n",
      "Downloading 1/1: D:\\Eddies\\S1_eddies\\s1_2018-10-04_1.tif\n"
     ]
    },
    {
     "name": "stderr",
     "output_type": "stream",
     "text": [
      "Consider adjusting `region`, `scale` and/or `dtype` to reduce the s1_2018-10-04_1.tif download size (raw: 1.26 GB).\n"
     ]
    },
    {
     "data": {
      "application/vnd.jupyter.widget-view+json": {
       "model_id": "5bafb512f7d945168a438e7fa714652f",
       "version_major": 2,
       "version_minor": 0
      },
      "text/plain": [
       "s1_2018-10-04_1.tif: |                                                | 0.00/1.26G (raw) [  0.0%] in 00:00 (et…"
      ]
     },
     "metadata": {},
     "output_type": "display_data"
    },
    {
     "name": "stdout",
     "output_type": "stream",
     "text": [
      "Downloaded 1 tiles in 103.35397815704346 seconds.\n",
      "S1_20181004T072958 0.8912847917079795\n"
     ]
    },
    {
     "name": "stderr",
     "output_type": "stream",
     "text": [
      "Consider adjusting `region`, `scale` and/or `dtype` to reduce the s1_2018-10-06_1.tif download size (raw: 1.26 GB).\n"
     ]
    },
    {
     "name": "stdout",
     "output_type": "stream",
     "text": [
      "Downloading 1/1: D:\\Eddies\\S1_eddies\\s1_2018-10-06_1.tif\n"
     ]
    },
    {
     "data": {
      "application/vnd.jupyter.widget-view+json": {
       "model_id": "c651eb52b3044d39b63065d9998770d4",
       "version_major": 2,
       "version_minor": 0
      },
      "text/plain": [
       "s1_2018-10-06_1.tif: |                                                | 0.00/1.26G (raw) [  0.0%] in 00:00 (et…"
      ]
     },
     "metadata": {},
     "output_type": "display_data"
    },
    {
     "name": "stdout",
     "output_type": "stream",
     "text": [
      "Downloaded 1 tiles in 105.35781478881836 seconds.\n",
      "S1_20181006T080155 0.8602744457927568\n",
      "Downloading 1/1: D:\\Eddies\\S1_eddies\\s1_2018-10-07_1.tif\n"
     ]
    },
    {
     "name": "stderr",
     "output_type": "stream",
     "text": [
      "Consider adjusting `region`, `scale` and/or `dtype` to reduce the s1_2018-10-07_1.tif download size (raw: 1.26 GB).\n"
     ]
    },
    {
     "data": {
      "application/vnd.jupyter.widget-view+json": {
       "model_id": "c817f0e730d54aa9aa12fd63830ea27c",
       "version_major": 2,
       "version_minor": 0
      },
      "text/plain": [
       "s1_2018-10-07_1.tif: |                                                | 0.00/1.26G (raw) [  0.0%] in 00:00 (et…"
      ]
     },
     "metadata": {},
     "output_type": "display_data"
    },
    {
     "name": "stdout",
     "output_type": "stream",
     "text": [
      "Downloaded 1 tiles in 113.35803389549255 seconds.\n",
      "S1_20181007T075439 0.9471380285178708\n"
     ]
    },
    {
     "name": "stderr",
     "output_type": "stream",
     "text": [
      "Consider adjusting `region`, `scale` and/or `dtype` to reduce the s1_2018-10-08_1.tif download size (raw: 1.26 GB).\n"
     ]
    },
    {
     "name": "stdout",
     "output_type": "stream",
     "text": [
      "Downloading 1/1: D:\\Eddies\\S1_eddies\\s1_2018-10-08_1.tif\n"
     ]
    },
    {
     "data": {
      "application/vnd.jupyter.widget-view+json": {
       "model_id": "2c23529d7c4a4264be0aea87279a9df5",
       "version_major": 2,
       "version_minor": 0
      },
      "text/plain": [
       "s1_2018-10-08_1.tif: |                                                | 0.00/1.26G (raw) [  0.0%] in 00:00 (et…"
      ]
     },
     "metadata": {},
     "output_type": "display_data"
    },
    {
     "name": "stdout",
     "output_type": "stream",
     "text": [
      "Downloaded 1 tiles in 104.82539463043213 seconds.\n",
      "S1_20181008T074529 0.9072611102724598\n",
      "Downloading 1/1: D:\\Eddies\\S1_eddies\\s1_2018-10-09_1.tif\n"
     ]
    },
    {
     "name": "stderr",
     "output_type": "stream",
     "text": [
      "Consider adjusting `region`, `scale` and/or `dtype` to reduce the s1_2018-10-09_1.tif download size (raw: 1.26 GB).\n"
     ]
    },
    {
     "data": {
      "application/vnd.jupyter.widget-view+json": {
       "model_id": "1547a42d3c384d13997b2a32c8b5cd1d",
       "version_major": 2,
       "version_minor": 0
      },
      "text/plain": [
       "s1_2018-10-09_1.tif: |                                                | 0.00/1.26G (raw) [  0.0%] in 00:00 (et…"
      ]
     },
     "metadata": {},
     "output_type": "display_data"
    },
    {
     "name": "stdout",
     "output_type": "stream",
     "text": [
      "Downloaded 1 tiles in 115.09260034561157 seconds.\n",
      "S1_20181009T073813 0.9918759901621361\n"
     ]
    },
    {
     "name": "stderr",
     "output_type": "stream",
     "text": [
      "Consider adjusting `region`, `scale` and/or `dtype` to reduce the s1_2018-10-10_1.tif download size (raw: 1.26 GB).\n"
     ]
    },
    {
     "name": "stdout",
     "output_type": "stream",
     "text": [
      "Downloading 1/1: D:\\Eddies\\S1_eddies\\s1_2018-10-10_1.tif\n"
     ]
    },
    {
     "data": {
      "application/vnd.jupyter.widget-view+json": {
       "model_id": "548a1bb5dca64d7c82db8c76c6a1f35c",
       "version_major": 2,
       "version_minor": 0
      },
      "text/plain": [
       "s1_2018-10-10_1.tif: |                                                | 0.00/1.26G (raw) [  0.0%] in 00:00 (et…"
      ]
     },
     "metadata": {},
     "output_type": "display_data"
    }
   ],
   "source": [
    "def collection_addbands(img):\n",
    "    bands = img.bandNames() # First band ('HH' or 'VV')\n",
    "    band = [ee.Algorithms.If(bands.contains('HH'), 'HH', 'VV')]\n",
    "    norm = img.select(band).divide(img.select('angle')).rename('norm')\n",
    "    img2 = img.addBands(norm, overwrite=True).select('norm')\n",
    "    return img2\n",
    "\n",
    "def add_coverage(img, extent = extent):\n",
    "    \n",
    "    tol = 10000\n",
    "    overlap = img.geometry().intersection(extent, tol)\n",
    "    ratio = overlap.area(tol).divide(extent.area(tol))\n",
    "    return img.set({'coverage_ratio': ratio})\n",
    "\n",
    "# calculate coverage area of image to roi\n",
    "def coverage(img, extent):\n",
    "    tol = 10000\n",
    "    overlap = img.geometry().intersection(extent, tol)\n",
    "    ratio = overlap.area(tol).divide(extent.area(tol))\n",
    "    return ratio.getInfo()\n",
    "\n",
    "start_date = \"2018-09-01\" #02\n",
    "end_date = \"2018-10-31\" #20\n",
    "\n",
    "d0 = datetime.strptime(start_date, \"%Y-%m-%d\")\n",
    "d2 = datetime.strptime(end_date, \"%Y-%m-%d\")\n",
    "\n",
    "dn = abs(d2-d0).days\n",
    "\n",
    "map = geemap.Map()\n",
    "\n",
    "for i in range(dn):\n",
    "\n",
    "    t1 = (d0 + timedelta(days = i))\n",
    "    t2 = (d0 + timedelta(days = i+1))\n",
    "\n",
    "    t1_str = t1.strftime(\"%Y-%m-%d\")\n",
    "    \n",
    "    collection0 = ee.ImageCollection(\"COPERNICUS/S1_GRD\").filterBounds(extent).filterDate(t1, t2)\\\n",
    "    .filter(ee.Filter.eq('instrumentMode', 'EW'))\n",
    "    \n",
    "    collection1 = collection0.map(collection_addbands)\n",
    "    collection = collection1.map(add_coverage).filter(ee.Filter.gt('coverage_ratio', 0.7))\n",
    "\n",
    "    S1_ids = collection.aggregate_array('system:id').getInfo()\n",
    "        \n",
    "    # print(t1, t2, len(S1_ids))\n",
    "\n",
    "    # print(start_date, end_date, len(S1_ids))\n",
    "\n",
    "    if len(S1_ids) > 1:\n",
    "        rs = collection.aggregate_array('coverage_ratio').getInfo()\n",
    "        S1_ids = [S1_ids[np.argmax(rs)]]\n",
    "\n",
    "    for k in S1_ids:\n",
    "        \n",
    "        img = collection_addbands(ee.Image(k)).setDefaultProjection(\"EPSG:3857\") #(\"EPSG:3857\") #.reproject(\"EPSG:4326\")\n",
    "        img = add_coverage(img)\n",
    "\n",
    "        mrange = range(0, rows)\n",
    "        nrange = range(0, cols)\n",
    "\n",
    "        out_dir = \"D:\\Eddies\\S1_eddies\"\n",
    "        geemap.download_ee_image_tiles(\n",
    "            img, ee.FeatureCollection(extent), out_dir, prefix=f\"s1_{t1_str}_\", crs=\"EPSG:3857\", scale=dp\n",
    "        )\n",
    "\n",
    "        # array = np.zeros([len(mrange)*2400, len(nrange)*2400])\n",
    "        \n",
    "        r = img.get('coverage_ratio').getInfo()\n",
    "        # img = collection.reduce(ee.Reducer.median()).select('norm_median').clip(region)\n",
    "\n",
    "        name = os.path.basename(k)[17:32]\n",
    "        description = f\"S1_{name}\"\n",
    "\n",
    "        # a = geemap.ee_to_numpy(img, scale = dp)\n",
    "        # array.append(a)\n",
    "        # days.append(t1)\n",
    "        \n",
    "        print(description, r)\n",
    "        "
   ]
  },
  {
   "cell_type": "markdown",
   "metadata": {},
   "source": [
    "## Summarized version for bulk processing"
   ]
  },
  {
   "cell_type": "code",
   "execution_count": 4,
   "metadata": {},
   "outputs": [
    {
     "data": {
      "text/plain": [
       "['D:\\\\Eddies\\\\S1_eddies\\\\S1_20181002T074615.tif',\n",
       " 'D:\\\\Eddies\\\\S1_eddies\\\\S1_20181003T073726.tif',\n",
       " 'D:\\\\Eddies\\\\S1_eddies\\\\S1_20181004T072958.tif',\n",
       " 'D:\\\\Eddies\\\\S1_eddies\\\\S1_20181005T072054.tif',\n",
       " 'D:\\\\Eddies\\\\S1_eddies\\\\S1_20181006T080155.tif',\n",
       " 'D:\\\\Eddies\\\\S1_eddies\\\\S1_20181007T075439.tif',\n",
       " 'D:\\\\Eddies\\\\S1_eddies\\\\S1_20181008T074529.tif',\n",
       " 'D:\\\\Eddies\\\\S1_eddies\\\\S1_20181009T073813.tif',\n",
       " 'D:\\\\Eddies\\\\S1_eddies\\\\S1_20181010T072915.tif',\n",
       " 'D:\\\\Eddies\\\\S1_eddies\\\\S1_20181011T072144.tif',\n",
       " 'D:\\\\Eddies\\\\S1_eddies\\\\S1_20181012T080235.tif',\n",
       " 'D:\\\\Eddies\\\\S1_eddies\\\\S1_20181013T075346.tif',\n",
       " 'D:\\\\Eddies\\\\S1_eddies\\\\S1_20181014T074615.tif',\n",
       " 'D:\\\\Eddies\\\\S1_eddies\\\\S1_20181015T073726.tif',\n",
       " 'D:\\\\Eddies\\\\S1_eddies\\\\S1_20181016T072958.tif',\n",
       " 'D:\\\\Eddies\\\\S1_eddies\\\\S1_20181017T072054.tif',\n",
       " 'D:\\\\Eddies\\\\S1_eddies\\\\S1_20181018T080155.tif',\n",
       " 'D:\\\\Eddies\\\\S1_eddies\\\\S1_20181019T075439.tif']"
      ]
     },
     "execution_count": 4,
     "metadata": {},
     "output_type": "execute_result"
    }
   ],
   "source": [
    "files"
   ]
  },
  {
   "cell_type": "code",
   "execution_count": 9,
   "metadata": {},
   "outputs": [],
   "source": [
    "img = rasterio.open(files[ind1])\n",
    "a1 = img.read(1)\n",
    "# img.close()"
   ]
  },
  {
   "cell_type": "code",
   "execution_count": 58,
   "metadata": {},
   "outputs": [],
   "source": [
    "normz = Normalize(vmin = 0.2, vmax = 0.9)"
   ]
  },
  {
   "cell_type": "code",
   "execution_count": 21,
   "metadata": {},
   "outputs": [
    {
     "name": "stdout",
     "output_type": "stream",
     "text": [
      "Time difference (seconds):  85850.0\n",
      "81% 04000.0 06500.0 04031.0 06489.0 -03.0 0.25 2.591\r"
     ]
    },
    {
     "name": "stderr",
     "output_type": "stream",
     "text": [
      "C:\\Users\\yoko2261\\Research\\sea_ice_drift\\sea_ice_drift\\pmlib.py:57: RuntimeWarning: invalid value encountered in divide\n",
      "  hes = (hes - np.median(hes)) / np.std(hes)\n"
     ]
    },
    {
     "name": "stdout",
     "output_type": "stream",
     "text": [
      "100% 04700.0 08050.0 0000nan 0000nan +0nan 0nan 0nan\n",
      " Pattern matching - OK! ( 55 sec)\n",
      "D:\\Eddies\\ice_vel\\pickle\\S1_vel_20181007T075439_20181008T074529.pkl\n",
      "D:\\Eddies\\ice_vel\\maps\\S1_vel_20181007T075439_20181008T074529.png\n",
      "Time difference (seconds):  85964.0\n",
      "10% 08000.0 00800.0 0000nan 0000nan +0nan 0nan 0nan\r"
     ]
    },
    {
     "name": "stderr",
     "output_type": "stream",
     "text": [
      "C:\\Users\\yoko2261\\Research\\sea_ice_drift\\sea_ice_drift\\pmlib.py:57: RuntimeWarning: invalid value encountered in divide\n",
      "  hes = (hes - np.median(hes)) / np.std(hes)\n"
     ]
    },
    {
     "name": "stdout",
     "output_type": "stream",
     "text": [
      "100% 05850.0 07050.0 05813.0 07968.0 -03.0 0.00 0nan\n",
      " Pattern matching - OK! ( 61 sec)\n",
      "D:\\Eddies\\ice_vel\\pickle\\S1_vel_20181008T074529_20181009T073813.pkl\n",
      "D:\\Eddies\\ice_vel\\maps\\S1_vel_20181008T074529_20181009T073813.png\n",
      "Time difference (seconds):  85862.0\n",
      "02% 00900.0 00250.0 0000nan 0000nan +0nan 0nan 0nan\r"
     ]
    },
    {
     "name": "stderr",
     "output_type": "stream",
     "text": [
      "C:\\Users\\yoko2261\\Research\\sea_ice_drift\\sea_ice_drift\\pmlib.py:57: RuntimeWarning: invalid value encountered in divide\n",
      "  hes = (hes - np.median(hes)) / np.std(hes)\n"
     ]
    },
    {
     "name": "stdout",
     "output_type": "stream",
     "text": [
      "100% 01400.0 07350.0 0000nan 0000nan +0nan 0nan 0nan\n",
      " Pattern matching - OK! ( 67 sec)\n",
      "D:\\Eddies\\ice_vel\\pickle\\S1_vel_20181009T073813_20181010T072915.pkl\n",
      "D:\\Eddies\\ice_vel\\maps\\S1_vel_20181009T073813_20181010T072915.png\n",
      "Time difference (seconds):  85949.0\n",
      "04% 00600.0 00400.0 0000nan 0000nan +0nan 0nan 0nan\r"
     ]
    },
    {
     "name": "stderr",
     "output_type": "stream",
     "text": [
      "C:\\Users\\yoko2261\\Research\\sea_ice_drift\\sea_ice_drift\\pmlib.py:57: RuntimeWarning: invalid value encountered in divide\n",
      "  hes = (hes - np.median(hes)) / np.std(hes)\n"
     ]
    },
    {
     "name": "stdout",
     "output_type": "stream",
     "text": [
      "100% 06300.0 08050.0 0000nan 0000nan +0nan 0nan 0nan\n",
      " Pattern matching - OK! ( 53 sec)\n",
      "D:\\Eddies\\ice_vel\\pickle\\S1_vel_20181010T072915_20181011T072144.pkl\n",
      "D:\\Eddies\\ice_vel\\maps\\S1_vel_20181010T072915_20181011T072144.png\n",
      "Time difference (seconds):  88851.0\n",
      "44% 04450.0 03450.0 04540.0 03604.0 -03.0 0.28 2.01\r"
     ]
    },
    {
     "name": "stderr",
     "output_type": "stream",
     "text": [
      "C:\\Users\\yoko2261\\Research\\sea_ice_drift\\sea_ice_drift\\pmlib.py:57: RuntimeWarning: invalid value encountered in divide\n",
      "  hes = (hes - np.median(hes)) / np.std(hes)\n"
     ]
    },
    {
     "name": "stdout",
     "output_type": "stream",
     "text": [
      "100% 07150.0 07900.0 07589.0 07774.0 -03.0 0.00 0nan\n",
      " Pattern matching - OK! ( 44 sec)\n",
      "D:\\Eddies\\ice_vel\\pickle\\S1_vel_20181011T072144_20181012T080235.pkl\n",
      "D:\\Eddies\\ice_vel\\maps\\S1_vel_20181011T072144_20181012T080235.png\n",
      "Time difference (seconds):  85871.0\n",
      "Time difference (seconds):  85949.0\n",
      "Time difference (seconds):  85871.0\n",
      "Time difference (seconds):  85952.0\n",
      "Time difference (seconds):  85856.0\n",
      "Time difference (seconds):  88861.0\n",
      "Time difference (seconds):  85964.0\n",
      "Done\n"
     ]
    }
   ],
   "source": [
    "# normalize array values\n",
    "def prepare_array(img):\n",
    "    # img = (img+1)/(1)\n",
    "    img -= get_spatial_mean(img)\n",
    "    img = get_uint8_image(img, None, None, 1, 99)\n",
    "    return img\n",
    "\n",
    "files = sorted(glob.glob(f\"D:\\\\Eddies\\\\S1_eddies\\\\S1_*.tif\"))\n",
    "drawing = True\n",
    "# print(len(files))\n",
    "\n",
    "for i in range(5, len(files)-1):\n",
    "\n",
    "    # Image read ==============================================\n",
    "    ind1 = i\n",
    "    ind2 = i+1\n",
    "    \n",
    "    t1 = datetime.strptime(os.path.basename(files[ind1])[-19:-4], \"%Y%m%dT%H%M%S\")\n",
    "    t2 = datetime.strptime(os.path.basename(files[ind2])[-19:-4], \"%Y%m%dT%H%M%S\")\n",
    "\n",
    "    t1_str = t1.strftime(\"%Y%m%dT%H%M%S\")\n",
    "    t2_str = t2.strftime(\"%Y%m%dT%H%M%S\")\n",
    "\n",
    "    if t2.year >= 2010:\n",
    "    \n",
    "        img = rasterio.open(files[ind1])\n",
    "        # print(files[ind1])\n",
    "        a1 = img.read(1)\n",
    "        img.close()\n",
    "        \n",
    "        img = rasterio.open(files[ind2])\n",
    "        # print(files[ind2])\n",
    "        a2 = img.read(1)\n",
    "        img.close()        \n",
    "        \n",
    "        a1 = prepare_array(a1)\n",
    "        a2 = prepare_array(a2)\n",
    "        \n",
    "        ds = abs(t2-t1).total_seconds()\n",
    "        print(\"Time difference (seconds): \", ds)\n",
    "    \n",
    "        # Process image =====================================================\n",
    "        pixel_size = 50 # meters for fake grid\n",
    "        pm_step = 50 # subsampling for lon/lat grids\n",
    "\n",
    "        srs = NSR(32631) #dstCrs = {'init': 'EPSG:32721'}\n",
    "        \n",
    "        rows, cols = a1.shape\n",
    "    \n",
    "        d = Domain(srs.wkt, f'-te 0 0 {cols*pixel_size} {rows*pixel_size} -ts {cols} {rows}')\n",
    "        n1 = Nansat.from_domain(d, a1)\n",
    "        n2 = Nansat.from_domain(d, a2)\n",
    "        c1, r1, c2, r2 = feature_tracking(n1, n2, nFeatures=50000, ratio_test=0.5, max_drift=20000, verbose=False)\n",
    "        \n",
    "        if len(c1) > 10:\n",
    "            # convert row/column coordinates of matched features to lon/lat\n",
    "            lon1ft, lat1ft = n1.transform_points(c1, r1)\n",
    "            lon2ft, lat2ft = n2.transform_points(c2, r2)\n",
    "            \n",
    "            # get lon/lat coordinates of the border of images\n",
    "            lon1b, lat1b = n1.get_border()\n",
    "            lon2b, lat2b = n2.get_border()\n",
    "            \n",
    "            lon1pm, lat1pm = d.get_geolocation_grids(pm_step)\n",
    "            upm, vpm, apm, rpm, hpm, lon2pm, lat2pm = pattern_matching(lon1pm, lat1pm, n1, c1, r1, n2, c2, r2, srs=srs.ExportToProj4())\n",
    "        \n",
    "            ## Draw maps of sea ice velocity ==============================================\n",
    "            # plot valid vectors in Polar stereographic projection\n",
    "            gpi = (rpm > 0.4) \n",
    "            # X/Y grids in polar stereographic projection covering image_1\n",
    "            x1pm, y1pm = d.get_geolocation_grids(pm_step, dst_srs=srs)\n",
    "            \n",
    "            # spacial reference for plotting\n",
    "            crs = ccrs.UTM(zone=31, southern_hemisphere=False)\n",
    "\n",
    "            ### SAVE AS PICKLE =======================================================\n",
    "            pkl_name = f\"D:\\\\Eddies\\\\ice_vel\\\\pickle\\\\S1_vel_{t1_str}_{t2_str}.pkl\"\n",
    "            pkl_object = [upm, vpm, apm, rpm, hpm, lon2pm, lat2pm]\n",
    "            with open(pkl_name, 'wb') as handle:\n",
    "                pickle.dump(pkl_object, handle)\n",
    "            print(pkl_name)\n",
    "            \n",
    "            ### DRAW MAP of ICE VELOCITY =============================================\n",
    "            if drawing:\n",
    "                plt.figure(figsize=(8,8), dpi = 180)\n",
    "                ax = plt.axes(projection=crs)\n",
    "        \n",
    "                normz = Normalize(vmin = 0.2, vmax = 0.9)\n",
    "                \n",
    "                ax.imshow(a1, cmap='gray', extent=[x1pm.min(), x1pm.max(), y1pm.min(), y1pm.max()], origin='upper', vmin = 100, vmax = 250)\n",
    "                quiv=ax.quiver(x1pm[gpi], y1pm[gpi], upm[gpi]/ds*3600*24, vpm[gpi]/ds*3600*24, rpm[gpi],\n",
    "                               cmap='jet', width=0.002, angles='xy', scale_units='xy', scale=1, norm = normz)\n",
    "                plt.colorbar(quiv, shrink=0.5)\n",
    "                # plt.quiverkey(quiv, x1pm.max(), y1pm.max(), 0.05, '0.05 m/s', coordinates='data')\n",
    "                plt.title('Ice drfit speed [m/day]')\n",
    "                # ax.add_feature(land_50m, edgecolor='black')\n",
    "                ax.set_xticks(np.arange(x1pm.min(), x1pm.max(), 25000))\n",
    "                ax.set_yticks(np.arange(0, y1pm.max(), 25000))\n",
    "                \n",
    "                ax.set_xlim([x1pm.min() - pixel_size*pm_step, x1pm.max() + pixel_size*pm_step])\n",
    "                ax.set_ylim([y1pm.min() - pixel_size*pm_step, y1pm.max() + pixel_size*pm_step])\n",
    "                \n",
    "                # plt.show()            \n",
    "                imgname = f\"D:\\\\Eddies\\\\ice_vel\\\\maps\\\\S1_vel_{t1_str}_{t2_str}.png\"\n",
    "                print(imgname)\n",
    "                plt.savefig(imgname, bbox_inches = \"tight\")\n",
    "                plt.close()\n",
    "            \n",
    "print(\"Done\")"
   ]
  }
 ],
 "metadata": {
  "kernelspec": {
   "display_name": "Python 3 (ipykernel)",
   "language": "python",
   "name": "python3"
  },
  "language_info": {
   "codemirror_mode": {
    "name": "ipython",
    "version": 3
   },
   "file_extension": ".py",
   "mimetype": "text/x-python",
   "name": "python",
   "nbconvert_exporter": "python",
   "pygments_lexer": "ipython3",
   "version": "3.10.14"
  }
 },
 "nbformat": 4,
 "nbformat_minor": 4
}
